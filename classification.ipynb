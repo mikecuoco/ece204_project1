{
 "cells": [
  {
   "cell_type": "code",
   "execution_count": 51,
   "metadata": {},
   "outputs": [],
   "source": [
    "from anndata import read_h5ad\n",
    "from sklearn.ensemble import RandomForestClassifier\n",
    "from sklearn.linear_model import LogisticRegression\n",
    "from sklearn.model_selection import train_test_split\n",
    "from sklearn.metrics import accuracy_score, roc_auc_score"
   ]
  },
  {
   "cell_type": "code",
   "execution_count": 25,
   "metadata": {},
   "outputs": [
    {
     "data": {
      "text/plain": [
       "AnnData object with n_obs × n_vars = 545 × 20262\n",
       "    obs: 'type', 'age_at_initial_pathologic_diagnosis', 'gender', 'race', 'ajcc_pathologic_tumor_stage', 'histological_type', 'histological_grade', 'tumor_status', 'vital_status', 'OS', 'OS.time', 'DSS', 'DSS.time', 'DFI', 'DFI.time', 'PFI', 'PFI.time', 'Redaction', 'tissue_source_site'\n",
       "    var: 'gene', 'n_cells', 'mean', 'std'\n",
       "    uns: 'log1p'\n",
       "    obsm: 'mds', 'pca', 'tsne', 'umap'"
      ]
     },
     "execution_count": 25,
     "metadata": {},
     "output_type": "execute_result"
    }
   ],
   "source": [
    "# load data\n",
    "adata = read_h5ad(\"data/TCGA.HNSC.embedded.h5ad\")\n",
    "adata"
   ]
  },
  {
   "cell_type": "code",
   "execution_count": 31,
   "metadata": {},
   "outputs": [],
   "source": [
    "# remove samples that belong to minority tissue_source_site\n",
    "adata = adata[adata.obs[\"tissue_source_site\"].isin([\"CN\",\"CV\",\"CR\",\"CQ\",\"BA\"])]"
   ]
  },
  {
   "cell_type": "code",
   "execution_count": 49,
   "metadata": {},
   "outputs": [],
   "source": [
    "def classify_embedding(embedding, labels):\n",
    "\t# split data into train and test\n",
    "\tX_train, X_test, y_train, y_test  = train_test_split(embedding, labels, test_size=0.2, random_state=0, stratify=adata.obs[\"tissue_source_site\"])\n",
    "\n",
    "\t# fit the model\n",
    "\tclf = RandomForestClassifier(oob_score=True).fit(X_train, y_train)\n",
    "\n",
    "\t# predict on train data\n",
    "\ty_pred = clf.predict(X_train)\n",
    "\tscore = accuracy_score(y_train, y_pred)\n",
    "\tprint(\"Train accuracy: {:.2f}\".format(score))\n",
    "\n",
    "\n",
    "\t# predict on test data\n",
    "\ty_pred = clf.predict(X_test)\n",
    "\tscore = accuracy_score(y_test, y_pred)\n",
    "\t# print rounded to 2 decimal places\n",
    "\tprint(\"Test accuracy: {:.2f}\".format(score))\n",
    "\n",
    "\treturn y_pred"
   ]
  },
  {
   "cell_type": "code",
   "execution_count": 50,
   "metadata": {},
   "outputs": [
    {
     "name": "stdout",
     "output_type": "stream",
     "text": [
      "Classification on umap embedding\n",
      "Train accuracy:  1.0\n",
      "Test accuracy:  0.5\n",
      "Classification on pca embedding\n",
      "Train accuracy:  1.0\n",
      "Test accuracy:  0.4594594594594595\n",
      "Classification on tsne embedding\n",
      "Train accuracy:  1.0\n",
      "Test accuracy:  0.43243243243243246\n",
      "Classification on mds embedding\n",
      "Train accuracy:  1.0\n",
      "Test accuracy:  0.43243243243243246\n"
     ]
    }
   ],
   "source": [
    "for emb in [\"umap\", \"pca\", \"tsne\", \"mds\"]:\n",
    "\tprint(\"Classification on {} embedding\".format(emb))\n",
    "\ty_pred = classify_embedding(adata.obsm[emb], adata.obs[\"tissue_source_site\"])"
   ]
  }
 ],
 "metadata": {
  "kernelspec": {
   "display_name": ".venv",
   "language": "python",
   "name": "python3"
  },
  "language_info": {
   "codemirror_mode": {
    "name": "ipython",
    "version": 3
   },
   "file_extension": ".py",
   "mimetype": "text/x-python",
   "name": "python",
   "nbconvert_exporter": "python",
   "pygments_lexer": "ipython3",
   "version": "3.9.16"
  },
  "orig_nbformat": 4
 },
 "nbformat": 4,
 "nbformat_minor": 2
}
