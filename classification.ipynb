{
 "cells": [
  {
   "attachments": {},
   "cell_type": "markdown",
   "metadata": {},
   "source": [
    "# Classify metadata labels in low dim embeddings\n",
    "\n",
    "TODO:\n",
    " - try to predict biological labels\n",
    "    - gender\n",
    "    - race\n",
    "\t- histological_grade (could try regression here + mean_squared_error)\n",
    "\n",
    " - try other classification models\n",
    "    - random forest classifier\n",
    "    - support vector machine\n",
    "    - logistic regression (regularized, maybe try elasticnet)\n",
    "\n",
    " - try regression (for histological_grade or other continuous values)\n",
    "    - linear regression (regularized, maybe try elasticnet)\n",
    "    - random forest regressor"
   ]
  },
  {
   "cell_type": "code",
   "execution_count": 82,
   "metadata": {},
   "outputs": [],
   "source": [
    "from anndata import read_h5ad\n",
    "from sklearn.ensemble import RandomForestClassifier, RandomForestRegressor\n",
    "from sklearn.linear_model import LogisticRegression, LinearRegression\n",
    "from sklearn.model_selection import train_test_split\n",
    "from sklearn.metrics import accuracy_score, mean_squared_error\n",
    "from sklearn.model_selection import StratifiedKFold\n",
    "import matplotlib.pyplot as plt\n",
    "import numpy as np\n",
    "import seaborn as sns\n",
    "import pandas as pd"
   ]
  },
  {
   "cell_type": "code",
   "execution_count": 83,
   "metadata": {},
   "outputs": [
    {
     "data": {
      "text/plain": [
       "array([[-0.19629773, -1.1062453 ,  0.36129358, ...,  2.000291  ,\n",
       "        -0.7920817 , -1.8723346 ],\n",
       "       [-0.19629773,  0.3782571 ,  0.25116065, ..., -1.5017292 ,\n",
       "        -3.8944824 ,  1.496986  ],\n",
       "       [-0.19629773,  0.32936722, -1.112774  , ...,  0.46102563,\n",
       "        -3.58189   ,  1.179482  ],\n",
       "       ...,\n",
       "       [-0.19629773,  1.8610023 ,  1.7137505 , ..., -0.73239803,\n",
       "         1.0635761 ,  0.20601502],\n",
       "       [-0.19629773,  2.1095066 ,  2.3128252 , ..., -2.6335678 ,\n",
       "         1.1895057 , -0.28468293],\n",
       "       [-0.19629773,  0.93394375,  0.9396802 , ...,  0.17397805,\n",
       "         1.040906  ,  1.6809099 ]], dtype=float32)"
      ]
     },
     "execution_count": 83,
     "metadata": {},
     "output_type": "execute_result"
    }
   ],
   "source": [
    "# load data\n",
    "adata = read_h5ad(\"data/TCGA.HNSC.embedded.h5ad\")\n",
    "adata.X"
   ]
  },
  {
   "cell_type": "code",
   "execution_count": 84,
   "metadata": {},
   "outputs": [
    {
     "data": {
      "text/html": [
       "<div>\n",
       "<style scoped>\n",
       "    .dataframe tbody tr th:only-of-type {\n",
       "        vertical-align: middle;\n",
       "    }\n",
       "\n",
       "    .dataframe tbody tr th {\n",
       "        vertical-align: top;\n",
       "    }\n",
       "\n",
       "    .dataframe thead th {\n",
       "        text-align: right;\n",
       "    }\n",
       "</style>\n",
       "<table border=\"1\" class=\"dataframe\">\n",
       "  <thead>\n",
       "    <tr style=\"text-align: right;\">\n",
       "      <th></th>\n",
       "      <th>type</th>\n",
       "      <th>age_at_initial_pathologic_diagnosis</th>\n",
       "      <th>gender</th>\n",
       "      <th>race</th>\n",
       "      <th>ajcc_pathologic_tumor_stage</th>\n",
       "      <th>histological_type</th>\n",
       "      <th>histological_grade</th>\n",
       "      <th>tumor_status</th>\n",
       "      <th>vital_status</th>\n",
       "      <th>OS</th>\n",
       "      <th>OS.time</th>\n",
       "      <th>DSS</th>\n",
       "      <th>DSS.time</th>\n",
       "      <th>DFI</th>\n",
       "      <th>DFI.time</th>\n",
       "      <th>PFI</th>\n",
       "      <th>PFI.time</th>\n",
       "      <th>Redaction</th>\n",
       "      <th>tissue_source_site</th>\n",
       "    </tr>\n",
       "    <tr>\n",
       "      <th>sample_id</th>\n",
       "      <th></th>\n",
       "      <th></th>\n",
       "      <th></th>\n",
       "      <th></th>\n",
       "      <th></th>\n",
       "      <th></th>\n",
       "      <th></th>\n",
       "      <th></th>\n",
       "      <th></th>\n",
       "      <th></th>\n",
       "      <th></th>\n",
       "      <th></th>\n",
       "      <th></th>\n",
       "      <th></th>\n",
       "      <th></th>\n",
       "      <th></th>\n",
       "      <th></th>\n",
       "      <th></th>\n",
       "      <th></th>\n",
       "    </tr>\n",
       "  </thead>\n",
       "  <tbody>\n",
       "    <tr>\n",
       "      <th>TCGA-4P-AA8J-01A-11R-A39I-07</th>\n",
       "      <td>HNSC</td>\n",
       "      <td>66.0</td>\n",
       "      <td>MALE</td>\n",
       "      <td>BLACK OR AFRICAN AMERICAN</td>\n",
       "      <td>Stage IVA</td>\n",
       "      <td>Head &amp; Neck Squamous Cell Carcinoma</td>\n",
       "      <td>G2</td>\n",
       "      <td>TUMOR FREE</td>\n",
       "      <td>Alive</td>\n",
       "      <td>0.0</td>\n",
       "      <td>102.0</td>\n",
       "      <td>0.0</td>\n",
       "      <td>102.0</td>\n",
       "      <td>NaN</td>\n",
       "      <td>NaN</td>\n",
       "      <td>0.0</td>\n",
       "      <td>102.0</td>\n",
       "      <td>NaN</td>\n",
       "      <td>4P</td>\n",
       "    </tr>\n",
       "    <tr>\n",
       "      <th>TCGA-BA-4074-01A-01R-1436-07</th>\n",
       "      <td>HNSC</td>\n",
       "      <td>69.0</td>\n",
       "      <td>MALE</td>\n",
       "      <td>WHITE</td>\n",
       "      <td>Stage IVA</td>\n",
       "      <td>Head &amp; Neck Squamous Cell Carcinoma</td>\n",
       "      <td>G3</td>\n",
       "      <td>WITH TUMOR</td>\n",
       "      <td>Dead</td>\n",
       "      <td>1.0</td>\n",
       "      <td>462.0</td>\n",
       "      <td>1.0</td>\n",
       "      <td>462.0</td>\n",
       "      <td>NaN</td>\n",
       "      <td>NaN</td>\n",
       "      <td>1.0</td>\n",
       "      <td>396.0</td>\n",
       "      <td>NaN</td>\n",
       "      <td>BA</td>\n",
       "    </tr>\n",
       "    <tr>\n",
       "      <th>TCGA-BA-4075-01A-01R-1436-07</th>\n",
       "      <td>HNSC</td>\n",
       "      <td>49.0</td>\n",
       "      <td>MALE</td>\n",
       "      <td>BLACK OR AFRICAN AMERICAN</td>\n",
       "      <td>Stage III</td>\n",
       "      <td>Head &amp; Neck Squamous Cell Carcinoma</td>\n",
       "      <td>G2</td>\n",
       "      <td>WITH TUMOR</td>\n",
       "      <td>Dead</td>\n",
       "      <td>1.0</td>\n",
       "      <td>283.0</td>\n",
       "      <td>1.0</td>\n",
       "      <td>283.0</td>\n",
       "      <td>NaN</td>\n",
       "      <td>NaN</td>\n",
       "      <td>1.0</td>\n",
       "      <td>236.0</td>\n",
       "      <td>NaN</td>\n",
       "      <td>BA</td>\n",
       "    </tr>\n",
       "    <tr>\n",
       "      <th>TCGA-BA-4076-01A-01R-1436-07</th>\n",
       "      <td>HNSC</td>\n",
       "      <td>39.0</td>\n",
       "      <td>MALE</td>\n",
       "      <td>WHITE</td>\n",
       "      <td>[Not Available]</td>\n",
       "      <td>Head &amp; Neck Squamous Cell Carcinoma</td>\n",
       "      <td>G2</td>\n",
       "      <td>WITH TUMOR</td>\n",
       "      <td>Dead</td>\n",
       "      <td>1.0</td>\n",
       "      <td>415.0</td>\n",
       "      <td>1.0</td>\n",
       "      <td>415.0</td>\n",
       "      <td>NaN</td>\n",
       "      <td>NaN</td>\n",
       "      <td>1.0</td>\n",
       "      <td>286.0</td>\n",
       "      <td>NaN</td>\n",
       "      <td>BA</td>\n",
       "    </tr>\n",
       "    <tr>\n",
       "      <th>TCGA-BA-4077-01B-01R-1436-07</th>\n",
       "      <td>HNSC</td>\n",
       "      <td>45.0</td>\n",
       "      <td>FEMALE</td>\n",
       "      <td>WHITE</td>\n",
       "      <td>Stage IVA</td>\n",
       "      <td>Head &amp; Neck Squamous Cell Carcinoma</td>\n",
       "      <td>G2</td>\n",
       "      <td>WITH TUMOR</td>\n",
       "      <td>Dead</td>\n",
       "      <td>1.0</td>\n",
       "      <td>1134.0</td>\n",
       "      <td>1.0</td>\n",
       "      <td>1134.0</td>\n",
       "      <td>NaN</td>\n",
       "      <td>NaN</td>\n",
       "      <td>1.0</td>\n",
       "      <td>1134.0</td>\n",
       "      <td>NaN</td>\n",
       "      <td>BA</td>\n",
       "    </tr>\n",
       "  </tbody>\n",
       "</table>\n",
       "</div>"
      ],
      "text/plain": [
       "                              type  age_at_initial_pathologic_diagnosis  \\\n",
       "sample_id                                                                 \n",
       "TCGA-4P-AA8J-01A-11R-A39I-07  HNSC                                 66.0   \n",
       "TCGA-BA-4074-01A-01R-1436-07  HNSC                                 69.0   \n",
       "TCGA-BA-4075-01A-01R-1436-07  HNSC                                 49.0   \n",
       "TCGA-BA-4076-01A-01R-1436-07  HNSC                                 39.0   \n",
       "TCGA-BA-4077-01B-01R-1436-07  HNSC                                 45.0   \n",
       "\n",
       "                              gender                       race  \\\n",
       "sample_id                                                         \n",
       "TCGA-4P-AA8J-01A-11R-A39I-07    MALE  BLACK OR AFRICAN AMERICAN   \n",
       "TCGA-BA-4074-01A-01R-1436-07    MALE                      WHITE   \n",
       "TCGA-BA-4075-01A-01R-1436-07    MALE  BLACK OR AFRICAN AMERICAN   \n",
       "TCGA-BA-4076-01A-01R-1436-07    MALE                      WHITE   \n",
       "TCGA-BA-4077-01B-01R-1436-07  FEMALE                      WHITE   \n",
       "\n",
       "                             ajcc_pathologic_tumor_stage  \\\n",
       "sample_id                                                  \n",
       "TCGA-4P-AA8J-01A-11R-A39I-07                   Stage IVA   \n",
       "TCGA-BA-4074-01A-01R-1436-07                   Stage IVA   \n",
       "TCGA-BA-4075-01A-01R-1436-07                   Stage III   \n",
       "TCGA-BA-4076-01A-01R-1436-07             [Not Available]   \n",
       "TCGA-BA-4077-01B-01R-1436-07                   Stage IVA   \n",
       "\n",
       "                                                histological_type  \\\n",
       "sample_id                                                           \n",
       "TCGA-4P-AA8J-01A-11R-A39I-07  Head & Neck Squamous Cell Carcinoma   \n",
       "TCGA-BA-4074-01A-01R-1436-07  Head & Neck Squamous Cell Carcinoma   \n",
       "TCGA-BA-4075-01A-01R-1436-07  Head & Neck Squamous Cell Carcinoma   \n",
       "TCGA-BA-4076-01A-01R-1436-07  Head & Neck Squamous Cell Carcinoma   \n",
       "TCGA-BA-4077-01B-01R-1436-07  Head & Neck Squamous Cell Carcinoma   \n",
       "\n",
       "                             histological_grade tumor_status vital_status  \\\n",
       "sample_id                                                                   \n",
       "TCGA-4P-AA8J-01A-11R-A39I-07                 G2   TUMOR FREE        Alive   \n",
       "TCGA-BA-4074-01A-01R-1436-07                 G3   WITH TUMOR         Dead   \n",
       "TCGA-BA-4075-01A-01R-1436-07                 G2   WITH TUMOR         Dead   \n",
       "TCGA-BA-4076-01A-01R-1436-07                 G2   WITH TUMOR         Dead   \n",
       "TCGA-BA-4077-01B-01R-1436-07                 G2   WITH TUMOR         Dead   \n",
       "\n",
       "                               OS  OS.time  DSS  DSS.time  DFI  DFI.time  PFI  \\\n",
       "sample_id                                                                       \n",
       "TCGA-4P-AA8J-01A-11R-A39I-07  0.0    102.0  0.0     102.0  NaN       NaN  0.0   \n",
       "TCGA-BA-4074-01A-01R-1436-07  1.0    462.0  1.0     462.0  NaN       NaN  1.0   \n",
       "TCGA-BA-4075-01A-01R-1436-07  1.0    283.0  1.0     283.0  NaN       NaN  1.0   \n",
       "TCGA-BA-4076-01A-01R-1436-07  1.0    415.0  1.0     415.0  NaN       NaN  1.0   \n",
       "TCGA-BA-4077-01B-01R-1436-07  1.0   1134.0  1.0    1134.0  NaN       NaN  1.0   \n",
       "\n",
       "                              PFI.time  Redaction tissue_source_site  \n",
       "sample_id                                                             \n",
       "TCGA-4P-AA8J-01A-11R-A39I-07     102.0        NaN                 4P  \n",
       "TCGA-BA-4074-01A-01R-1436-07     396.0        NaN                 BA  \n",
       "TCGA-BA-4075-01A-01R-1436-07     236.0        NaN                 BA  \n",
       "TCGA-BA-4076-01A-01R-1436-07     286.0        NaN                 BA  \n",
       "TCGA-BA-4077-01B-01R-1436-07    1134.0        NaN                 BA  "
      ]
     },
     "execution_count": 84,
     "metadata": {},
     "output_type": "execute_result"
    }
   ],
   "source": [
    "adata.obs.head()"
   ]
  },
  {
   "cell_type": "code",
   "execution_count": 85,
   "metadata": {},
   "outputs": [
    {
     "data": {
      "text/plain": [
       "View of AnnData object with n_obs × n_vars = 366 × 20262\n",
       "    obs: 'type', 'age_at_initial_pathologic_diagnosis', 'gender', 'race', 'ajcc_pathologic_tumor_stage', 'histological_type', 'histological_grade', 'tumor_status', 'vital_status', 'OS', 'OS.time', 'DSS', 'DSS.time', 'DFI', 'DFI.time', 'PFI', 'PFI.time', 'Redaction', 'tissue_source_site'\n",
       "    var: 'gene', 'n_cells', 'mean', 'std'\n",
       "    uns: 'log1p'\n",
       "    obsm: 'mds', 'pca', 'tsne', 'umap'"
      ]
     },
     "execution_count": 85,
     "metadata": {},
     "output_type": "execute_result"
    }
   ],
   "source": [
    "# remove samples that belong to minority tissue_source_site\n",
    "adata = adata[adata.obs[\"tissue_source_site\"].isin([\"CN\",\"CV\",\"CR\",\"CQ\",\"BA\"])]\n",
    "adata"
   ]
  },
  {
   "cell_type": "code",
   "execution_count": 94,
   "metadata": {},
   "outputs": [
    {
     "name": "stdout",
     "output_type": "stream",
     "text": [
      "366\n"
     ]
    }
   ],
   "source": [
    "total_tissue_sites = pd.value_counts(adata.obs['tissue_source_site']).sum()\n",
    "print(total_tissue_sites)"
   ]
  },
  {
   "cell_type": "code",
   "execution_count": 95,
   "metadata": {},
   "outputs": [
    {
     "name": "stdout",
     "output_type": "stream",
     "text": [
      "5\n"
     ]
    }
   ],
   "source": [
    "print(adata.obs['tissue_source_site'].nunique())"
   ]
  },
  {
   "cell_type": "code",
   "execution_count": 98,
   "metadata": {},
   "outputs": [
    {
     "name": "stdout",
     "output_type": "stream",
     "text": [
      "366\n"
     ]
    }
   ],
   "source": [
    "num_lines = adata.n_obs\n",
    "print(num_lines)"
   ]
  },
  {
   "cell_type": "code",
   "execution_count": 86,
   "metadata": {},
   "outputs": [],
   "source": [
    "def classify_embedding(embedding, labels):\n",
    "\t# split data into train and test\n",
    "\tX_train, X_test, y_train, y_test  = train_test_split(embedding, labels, test_size=0.2, random_state=0, stratify=adata.obs[\"tissue_source_site\"])\n",
    "\n",
    "\t# fit the model\n",
    "\tclf = RandomForestClassifier(oob_score=True).fit(X_train, y_train)\n",
    "\n",
    "\t# predict on train data\n",
    "\ty_pred = clf.predict(X_train)\n",
    "\tscore = accuracy_score(y_train, y_pred)\n",
    "\tprint(\"Train accuracy: {:.2f}\".format(score))\n",
    "\n",
    "\n",
    "\t# predict on test data\n",
    "\ty_pred = clf.predict(X_test)\n",
    "\tscore = accuracy_score(y_test, y_pred)\n",
    "\t# print rounded to 2 decimal places\n",
    "\tprint(\"Test accuracy: {:.2f}\".format(score))\n",
    "\n",
    "\treturn y_pred"
   ]
  },
  {
   "cell_type": "code",
   "execution_count": 87,
   "metadata": {},
   "outputs": [
    {
     "name": "stdout",
     "output_type": "stream",
     "text": [
      "Classification on umap embedding\n",
      "Train accuracy: 1.00\n",
      "Test accuracy: 0.65\n",
      "Classification on pca embedding\n",
      "Train accuracy: 1.00\n",
      "Test accuracy: 0.80\n",
      "Classification on tsne embedding\n",
      "Train accuracy: 1.00\n",
      "Test accuracy: 0.72\n",
      "Classification on mds embedding\n",
      "Train accuracy: 1.00\n",
      "Test accuracy: 0.70\n"
     ]
    }
   ],
   "source": [
    "for emb in [\"umap\", \"pca\", \"tsne\", \"mds\"]:\n",
    "\tprint(\"Classification on {} embedding\".format(emb))\n",
    "\ty_pred = classify_embedding(adata.obsm[emb], adata.obs[\"gender\"])"
   ]
  },
  {
   "cell_type": "code",
   "execution_count": 99,
   "metadata": {},
   "outputs": [
    {
     "name": "stdout",
     "output_type": "stream",
     "text": [
      "Classification on umap embedding\n",
      "Train accuracy: 1.00\n",
      "Test accuracy: 0.95\n",
      "Classification on pca embedding\n",
      "Train accuracy: 1.00\n",
      "Test accuracy: 0.95\n",
      "Classification on tsne embedding\n",
      "Train accuracy: 1.00\n",
      "Test accuracy: 0.93\n",
      "Classification on mds embedding\n",
      "Train accuracy: 1.00\n",
      "Test accuracy: 0.92\n"
     ]
    }
   ],
   "source": [
    "for emb in [\"umap\", \"pca\", \"tsne\", \"mds\"]:\n",
    "\tprint(\"Classification on {} embedding\".format(emb))\n",
    "\ty_pred = classify_embedding(adata.obsm[emb], adata.obs[\"race\"])"
   ]
  },
  {
   "cell_type": "code",
   "execution_count": 89,
   "metadata": {},
   "outputs": [
    {
     "name": "stdout",
     "output_type": "stream",
     "text": [
      "Classification on umap embedding\n",
      "Train accuracy: 1.00\n",
      "Test accuracy: 0.59\n",
      "Classification on pca embedding\n",
      "Train accuracy: 1.00\n",
      "Test accuracy: 0.58\n",
      "Classification on tsne embedding\n",
      "Train accuracy: 1.00\n",
      "Test accuracy: 0.54\n",
      "Classification on mds embedding\n",
      "Train accuracy: 1.00\n",
      "Test accuracy: 0.55\n"
     ]
    }
   ],
   "source": [
    "for emb in [\"umap\", \"pca\", \"tsne\", \"mds\"]:\n",
    "\tprint(\"Classification on {} embedding\".format(emb))\n",
    "\ty_pred = classify_embedding(adata.obsm[emb], adata.obs[\"histological_grade\"])"
   ]
  },
  {
   "cell_type": "code",
   "execution_count": 90,
   "metadata": {},
   "outputs": [
    {
     "name": "stdout",
     "output_type": "stream",
     "text": [
      "Classification on umap embedding\n",
      "Train accuracy: 1.00\n",
      "Test accuracy: 0.49\n",
      "Classification on pca embedding\n",
      "Train accuracy: 1.00\n",
      "Test accuracy: 0.47\n",
      "Classification on tsne embedding\n",
      "Train accuracy: 1.00\n",
      "Test accuracy: 0.51\n",
      "Classification on mds embedding\n",
      "Train accuracy: 1.00\n",
      "Test accuracy: 0.39\n"
     ]
    }
   ],
   "source": [
    "for emb in [\"umap\", \"pca\", \"tsne\", \"mds\"]:\n",
    "\tprint(\"Classification on {} embedding\".format(emb))\n",
    "\ty_pred = classify_embedding(adata.obsm[emb], adata.obs[\"tissue_source_site\"])"
   ]
  },
  {
   "cell_type": "code",
   "execution_count": 91,
   "metadata": {},
   "outputs": [
    {
     "data": {
      "image/png": "[encoded data removed]",
      "text/plain": [
       "<Figure size 640x480 with 1 Axes>"
      ]
     },
     "metadata": {},
     "output_type": "display_data"
    }
   ],
   "source": [
    "# define embedding methods and labels\n",
    "embeddings = [\"umap\", \"pca\", \"tsne\", \"mds\"]\n",
    "labels = [\"gender\", \"race\", \"histological_grade\", \"tissue_source_site\"]\n",
    "\n",
    "# define a function to get the classification accuracy for each embedding and label\n",
    "def get_classification_accuracy(embedding, label):\n",
    "    # split data into train and test\n",
    "    X_train, X_test, y_train, y_test = train_test_split(embedding, adata.obs[label], test_size=0.2, random_state=0, stratify=adata.obs[\"tissue_source_site\"])\n",
    "    \n",
    "    # fit the model\n",
    "    clf = RandomForestClassifier(oob_score=True).fit(X_train, y_train)\n",
    "    \n",
    "    # predict on test data\n",
    "    y_pred = clf.predict(X_test)\n",
    "    score = accuracy_score(y_test, y_pred)\n",
    "    \n",
    "    return score\n",
    "\n",
    "# initialize empty arrays to store classification accuracy for each embedding and label\n",
    "accuracy_array = np.zeros((4,4))\n",
    "\n",
    "# loop through embeddings and labels to get classification accuracy\n",
    "for i, embedding in enumerate(embeddings):\n",
    "    for j, label in enumerate(labels):\n",
    "        accuracy_array[i,j] = get_classification_accuracy(adata.obsm[embedding], label)\n",
    "\n",
    "# calculate mean and standard deviation of accuracy across embeddings for each label\n",
    "mean_accuracy = np.mean(accuracy_array, axis=0)\n",
    "std_accuracy = np.std(accuracy_array, axis=0)\n",
    "\n",
    "# create bar plot of mean accuracy with error bars representing standard deviation\n",
    "fig, ax = plt.subplots()\n",
    "ax.bar(labels, mean_accuracy, yerr=std_accuracy, capsize=5, color='C0')\n",
    "ax.set_ylabel('Classification Accuracy')\n",
    "ax.set_title('Random Forest Classification Accuracy')\n",
    "plt.xticks(rotation=45)\n",
    "\n",
    "plt.show()"
   ]
  },
  {
   "cell_type": "code",
   "execution_count": 92,
   "metadata": {},
   "outputs": [
    {
     "data": {
      "text/plain": [
       "<Figure size 1200x800 with 0 Axes>"
      ]
     },
     "metadata": {},
     "output_type": "display_data"
    },
    {
     "data": {
      "image/png": "[encoded data removed]",
      "text/plain": [
       "<Figure size 640x480 with 1 Axes>"
      ]
     },
     "metadata": {},
     "output_type": "display_data"
    }
   ],
   "source": [
    "# define embedding methods and labels\n",
    "embeddings = [\"umap\", \"pca\", \"tsne\", \"mds\"]\n",
    "labels = [\"gender\", \"race\", \"histological_grade\", \"tissue_source_site\"]\n",
    "\n",
    "# define a function to get the classification accuracy for each embedding and label\n",
    "def get_classification_accuracy(embedding, label):\n",
    "    # split data into train and test\n",
    "    X_train, X_test, y_train, y_test = train_test_split(embedding, adata.obs[label], test_size=0.2, random_state=0, stratify=adata.obs[\"tissue_source_site\"])\n",
    "    \n",
    "    # fit the model\n",
    "    clf = RandomForestClassifier(oob_score=True).fit(X_train, y_train)\n",
    "    \n",
    "    # predict on test data\n",
    "    y_pred = clf.predict(X_test)\n",
    "    score = accuracy_score(y_test, y_pred)\n",
    "    \n",
    "    return score\n",
    "\n",
    "# initialize empty arrays to store classification accuracy for each embedding and label\n",
    "accuracy_array = np.zeros((4,4))\n",
    "\n",
    "# loop through embeddings and labels to get classification accuracy\n",
    "for i, embedding in enumerate(embeddings):\n",
    "    for j, label in enumerate(labels):\n",
    "        accuracy_array[i,j] = get_classification_accuracy(adata.obsm[embedding], label)\n",
    "\n",
    "# create a DataFrame from the accuracy_array\n",
    "df = pd.DataFrame(accuracy_array, columns=labels, index=embeddings)\n",
    "\n",
    "# define the figure size and style\n",
    "plt.figure(figsize=(12, 8))\n",
    "sns.set_style(\"whitegrid\")\n",
    "\n",
    "# create a grouped bar chart\n",
    "df.plot(kind='bar', yerr=std_accuracy, capsize=5)\n",
    "\n",
    "# set the axis labels and title\n",
    "plt.ylabel('Classification Accuracy')\n",
    "plt.title('Random Forest Classification Accuracy')\n",
    "\n",
    "plt.show()"
   ]
  },
  {
   "cell_type": "code",
   "execution_count": 76,
   "metadata": {},
   "outputs": [
    {
     "data": {
      "text/plain": [
       "<Figure size 1200x800 with 0 Axes>"
      ]
     },
     "metadata": {},
     "output_type": "display_data"
    },
    {
     "data": {
      "image/png": "[encoded data removed]",
      "text/plain": [
       "<Figure size 640x480 with 1 Axes>"
      ]
     },
     "metadata": {},
     "output_type": "display_data"
    }
   ],
   "source": [
    "# define embedding methods and labels\n",
    "embeddings = [\"umap\", \"pca\", \"tsne\", \"mds\"]\n",
    "labels = [\"gender\", \"race\", \"histological_grade\", \"tissue_source_site\"]\n",
    "\n",
    "# define a function to get the classification accuracy for each embedding and label\n",
    "def get_classification_accuracy(embedding, label):\n",
    "    # split data into train and test\n",
    "    X_train, X_test, y_train, y_test = train_test_split(embedding, adata.obs[label], test_size=0.2, random_state=0, stratify=adata.obs[\"tissue_source_site\"])\n",
    "    \n",
    "    # fit the model\n",
    "    clf = RandomForestClassifier(oob_score=True).fit(X_train, y_train)\n",
    "    \n",
    "    # predict on test data\n",
    "    y_pred = clf.predict(X_test)\n",
    "    score = accuracy_score(y_test, y_pred)\n",
    "    \n",
    "    return score\n",
    "\n",
    "# initialize empty arrays to store classification accuracy for each embedding and label\n",
    "accuracy_array = np.zeros((4,4))\n",
    "\n",
    "# loop through embeddings and labels to get classification accuracy\n",
    "for i, embedding in enumerate(embeddings):\n",
    "    for j, label in enumerate(labels):\n",
    "        accuracy_array[i,j] = get_classification_accuracy(adata.obsm[embedding], label)\n",
    "\n",
    "# create a DataFrame from the accuracy_array\n",
    "df = pd.DataFrame(accuracy_array, columns=embeddings, index=labels)\n",
    "\n",
    "# define the figure size and style\n",
    "plt.figure(figsize=(12, 8))\n",
    "sns.set_style(\"whitegrid\")\n",
    "\n",
    "# create a grouped bar chart\n",
    "df.plot(kind='bar', yerr=std_accuracy, capsize=5)\n",
    "\n",
    "# set the axis labels and title\n",
    "plt.ylabel('Classification Accuracy')\n",
    "plt.title('Random Forest Classification Accuracy')\n",
    "plt.legend(bbox_to_anchor=(1.05, 1), loc=2, borderaxespad=0.) \n",
    "\n",
    "plt.show()"
   ]
  },
  {
   "cell_type": "code",
   "execution_count": 93,
   "metadata": {},
   "outputs": [
    {
     "name": "stderr",
     "output_type": "stream",
     "text": [
      "/Users/spaulding/Documents/GitHub/ece204_project1/.venv/lib/python3.10/site-packages/sklearn/model_selection/_split.py:700: UserWarning: The least populated class in y has only 1 members, which is less than n_splits=5.\n",
      "  warnings.warn(\n",
      "/Users/spaulding/Documents/GitHub/ece204_project1/.venv/lib/python3.10/site-packages/sklearn/model_selection/_split.py:700: UserWarning: The least populated class in y has only 1 members, which is less than n_splits=5.\n",
      "  warnings.warn(\n",
      "/Users/spaulding/Documents/GitHub/ece204_project1/.venv/lib/python3.10/site-packages/sklearn/model_selection/_split.py:700: UserWarning: The least populated class in y has only 1 members, which is less than n_splits=5.\n",
      "  warnings.warn(\n",
      "/Users/spaulding/Documents/GitHub/ece204_project1/.venv/lib/python3.10/site-packages/sklearn/model_selection/_split.py:700: UserWarning: The least populated class in y has only 1 members, which is less than n_splits=5.\n",
      "  warnings.warn(\n"
     ]
    },
    {
     "ename": "ValueError",
     "evalue": "Supported target types are: ('binary', 'multiclass'). Got 'multiclass-multioutput' instead.",
     "output_type": "error",
     "traceback": [
      "\u001b[0;31m---------------------------------------------------------------------------\u001b[0m",
      "\u001b[0;31mValueError\u001b[0m                                Traceback (most recent call last)",
      "Cell \u001b[0;32mIn[93], line 38\u001b[0m\n\u001b[1;32m     36\u001b[0m \u001b[38;5;28;01mfor\u001b[39;00m i, embedding \u001b[38;5;129;01min\u001b[39;00m \u001b[38;5;28menumerate\u001b[39m(embeddings):\n\u001b[1;32m     37\u001b[0m     \u001b[38;5;28;01mif\u001b[39;00m embedding \u001b[38;5;241m==\u001b[39m \u001b[38;5;124m\"\u001b[39m\u001b[38;5;124mOG data\u001b[39m\u001b[38;5;124m\"\u001b[39m:\n\u001b[0;32m---> 38\u001b[0m         accuracy_array[i,:] \u001b[38;5;241m=\u001b[39m \u001b[43mget_classification_accuracy\u001b[49m\u001b[43m(\u001b[49m\u001b[43madata\u001b[49m\u001b[38;5;241;43m.\u001b[39;49m\u001b[43mX\u001b[49m\u001b[43m,\u001b[49m\u001b[43m \u001b[49m\u001b[43mlabels\u001b[49m\u001b[43m)\u001b[49m\n\u001b[1;32m     39\u001b[0m     \u001b[38;5;28;01melse\u001b[39;00m:\n\u001b[1;32m     40\u001b[0m         \u001b[38;5;28;01mfor\u001b[39;00m j, label \u001b[38;5;129;01min\u001b[39;00m \u001b[38;5;28menumerate\u001b[39m(labels):\n",
      "Cell \u001b[0;32mIn[93], line 13\u001b[0m, in \u001b[0;36mget_classification_accuracy\u001b[0;34m(embedding, label)\u001b[0m\n\u001b[1;32m     10\u001b[0m scores \u001b[38;5;241m=\u001b[39m []\n\u001b[1;32m     12\u001b[0m \u001b[38;5;66;03m# loop through each fold\u001b[39;00m\n\u001b[0;32m---> 13\u001b[0m \u001b[38;5;28;01mfor\u001b[39;00m train_idx, test_idx \u001b[38;5;129;01min\u001b[39;00m kf\u001b[38;5;241m.\u001b[39msplit(embedding, adata\u001b[38;5;241m.\u001b[39mobs[label]):\n\u001b[1;32m     14\u001b[0m     \u001b[38;5;66;03m# split data into train and test\u001b[39;00m\n\u001b[1;32m     15\u001b[0m     X_train, X_test \u001b[38;5;241m=\u001b[39m embedding[train_idx], embedding[test_idx]\n\u001b[1;32m     16\u001b[0m     y_train, y_test \u001b[38;5;241m=\u001b[39m adata\u001b[38;5;241m.\u001b[39mobs[label][train_idx], adata\u001b[38;5;241m.\u001b[39mobs[label][test_idx]\n",
      "File \u001b[0;32m~/Documents/GitHub/ece204_project1/.venv/lib/python3.10/site-packages/sklearn/model_selection/_split.py:352\u001b[0m, in \u001b[0;36m_BaseKFold.split\u001b[0;34m(self, X, y, groups)\u001b[0m\n\u001b[1;32m    344\u001b[0m \u001b[39mif\u001b[39;00m \u001b[39mself\u001b[39m\u001b[39m.\u001b[39mn_splits \u001b[39m>\u001b[39m n_samples:\n\u001b[1;32m    345\u001b[0m     \u001b[39mraise\u001b[39;00m \u001b[39mValueError\u001b[39;00m(\n\u001b[1;32m    346\u001b[0m         (\n\u001b[1;32m    347\u001b[0m             \u001b[39m\"\u001b[39m\u001b[39mCannot have number of splits n_splits=\u001b[39m\u001b[39m{0}\u001b[39;00m\u001b[39m greater\u001b[39m\u001b[39m\"\u001b[39m\n\u001b[1;32m    348\u001b[0m             \u001b[39m\"\u001b[39m\u001b[39m than the number of samples: n_samples=\u001b[39m\u001b[39m{1}\u001b[39;00m\u001b[39m.\u001b[39m\u001b[39m\"\u001b[39m\n\u001b[1;32m    349\u001b[0m         )\u001b[39m.\u001b[39mformat(\u001b[39mself\u001b[39m\u001b[39m.\u001b[39mn_splits, n_samples)\n\u001b[1;32m    350\u001b[0m     )\n\u001b[0;32m--> 352\u001b[0m \u001b[39mfor\u001b[39;00m train, test \u001b[39min\u001b[39;00m \u001b[39msuper\u001b[39m()\u001b[39m.\u001b[39msplit(X, y, groups):\n\u001b[1;32m    353\u001b[0m     \u001b[39myield\u001b[39;00m train, test\n",
      "File \u001b[0;32m~/Documents/GitHub/ece204_project1/.venv/lib/python3.10/site-packages/sklearn/model_selection/_split.py:85\u001b[0m, in \u001b[0;36mBaseCrossValidator.split\u001b[0;34m(self, X, y, groups)\u001b[0m\n\u001b[1;32m     83\u001b[0m X, y, groups \u001b[39m=\u001b[39m indexable(X, y, groups)\n\u001b[1;32m     84\u001b[0m indices \u001b[39m=\u001b[39m np\u001b[39m.\u001b[39marange(_num_samples(X))\n\u001b[0;32m---> 85\u001b[0m \u001b[39mfor\u001b[39;00m test_index \u001b[39min\u001b[39;00m \u001b[39mself\u001b[39m\u001b[39m.\u001b[39m_iter_test_masks(X, y, groups):\n\u001b[1;32m     86\u001b[0m     train_index \u001b[39m=\u001b[39m indices[np\u001b[39m.\u001b[39mlogical_not(test_index)]\n\u001b[1;32m     87\u001b[0m     test_index \u001b[39m=\u001b[39m indices[test_index]\n",
      "File \u001b[0;32m~/Documents/GitHub/ece204_project1/.venv/lib/python3.10/site-packages/sklearn/model_selection/_split.py:733\u001b[0m, in \u001b[0;36mStratifiedKFold._iter_test_masks\u001b[0;34m(self, X, y, groups)\u001b[0m\n\u001b[1;32m    732\u001b[0m \u001b[39mdef\u001b[39;00m \u001b[39m_iter_test_masks\u001b[39m(\u001b[39mself\u001b[39m, X, y\u001b[39m=\u001b[39m\u001b[39mNone\u001b[39;00m, groups\u001b[39m=\u001b[39m\u001b[39mNone\u001b[39;00m):\n\u001b[0;32m--> 733\u001b[0m     test_folds \u001b[39m=\u001b[39m \u001b[39mself\u001b[39;49m\u001b[39m.\u001b[39;49m_make_test_folds(X, y)\n\u001b[1;32m    734\u001b[0m     \u001b[39mfor\u001b[39;00m i \u001b[39min\u001b[39;00m \u001b[39mrange\u001b[39m(\u001b[39mself\u001b[39m\u001b[39m.\u001b[39mn_splits):\n\u001b[1;32m    735\u001b[0m         \u001b[39myield\u001b[39;00m test_folds \u001b[39m==\u001b[39m i\n",
      "File \u001b[0;32m~/Documents/GitHub/ece204_project1/.venv/lib/python3.10/site-packages/sklearn/model_selection/_split.py:676\u001b[0m, in \u001b[0;36mStratifiedKFold._make_test_folds\u001b[0;34m(self, X, y)\u001b[0m\n\u001b[1;32m    674\u001b[0m allowed_target_types \u001b[39m=\u001b[39m (\u001b[39m\"\u001b[39m\u001b[39mbinary\u001b[39m\u001b[39m\"\u001b[39m, \u001b[39m\"\u001b[39m\u001b[39mmulticlass\u001b[39m\u001b[39m\"\u001b[39m)\n\u001b[1;32m    675\u001b[0m \u001b[39mif\u001b[39;00m type_of_target_y \u001b[39mnot\u001b[39;00m \u001b[39min\u001b[39;00m allowed_target_types:\n\u001b[0;32m--> 676\u001b[0m     \u001b[39mraise\u001b[39;00m \u001b[39mValueError\u001b[39;00m(\n\u001b[1;32m    677\u001b[0m         \u001b[39m\"\u001b[39m\u001b[39mSupported target types are: \u001b[39m\u001b[39m{}\u001b[39;00m\u001b[39m. Got \u001b[39m\u001b[39m{!r}\u001b[39;00m\u001b[39m instead.\u001b[39m\u001b[39m\"\u001b[39m\u001b[39m.\u001b[39mformat(\n\u001b[1;32m    678\u001b[0m             allowed_target_types, type_of_target_y\n\u001b[1;32m    679\u001b[0m         )\n\u001b[1;32m    680\u001b[0m     )\n\u001b[1;32m    682\u001b[0m y \u001b[39m=\u001b[39m column_or_1d(y)\n\u001b[1;32m    684\u001b[0m _, y_idx, y_inv \u001b[39m=\u001b[39m np\u001b[39m.\u001b[39munique(y, return_index\u001b[39m=\u001b[39m\u001b[39mTrue\u001b[39;00m, return_inverse\u001b[39m=\u001b[39m\u001b[39mTrue\u001b[39;00m)\n",
      "\u001b[0;31mValueError\u001b[0m: Supported target types are: ('binary', 'multiclass'). Got 'multiclass-multioutput' instead."
     ]
    }
   ],
   "source": [
    "# define embedding methods and labels\n",
    "embeddings = [\"umap\", \"pca\", \"tsne\", \"mds\", \"OG data\"]\n",
    "labels = [\"gender\", \"race\", \"histological_grade\", \"tissue_source_site\"]\n",
    "\n",
    "def get_classification_accuracy(embedding, label):\n",
    "    # initialize a k-fold cross-validation splitter\n",
    "    kf = StratifiedKFold(n_splits=5, shuffle=True, random_state=0)\n",
    "    \n",
    "    # initialize an empty list to store the accuracy scores for each fold\n",
    "    scores = []\n",
    "    \n",
    "    # loop through each fold\n",
    "    for train_idx, test_idx in kf.split(embedding, adata.obs[label]):\n",
    "        # split data into train and test\n",
    "        X_train, X_test = embedding[train_idx], embedding[test_idx]\n",
    "        y_train, y_test = adata.obs[label][train_idx], adata.obs[label][test_idx]\n",
    "\n",
    "        # fit the model\n",
    "        clf = RandomForestClassifier(oob_score=True).fit(X_train, y_train)\n",
    "\n",
    "        # predict on test data\n",
    "        y_pred = clf.predict(X_test)\n",
    "        score = accuracy_score(y_test, y_pred)\n",
    "        \n",
    "        scores.append(score)\n",
    "\n",
    "    # calculate the mean accuracy across all folds\n",
    "    mean_score = np.mean(scores)\n",
    "\n",
    "    return mean_score\n",
    "\n",
    "# initialize empty arrays to store classification accuracy for each embedding and label\n",
    "accuracy_array = np.zeros((5,4))\n",
    "\n",
    "# loop through embeddings and labels to get classification accuracy\n",
    "for i, embedding in enumerate(embeddings):\n",
    "    if embedding == \"OG data\":\n",
    "        accuracy_array[i,:] = get_classification_accuracy(adata.X, labels)\n",
    "    else:\n",
    "        for j, label in enumerate(labels):\n",
    "            accuracy_array[i,j] = get_classification_accuracy(adata.obsm[embedding], label)\n",
    "\n",
    "# create a DataFrame from the accuracy_array\n",
    "df = pd.DataFrame(accuracy_array, columns=labels, index=embeddings)\n",
    "\n",
    "# define the figure size and style\n",
    "plt.figure(figsize=(12, 8))\n",
    "sns.set_style(\"whitegrid\")\n",
    "\n",
    "# create a grouped bar chart\n",
    "df.plot(kind='bar', yerr=std_accuracy, capsize=5)\n",
    "\n",
    "# set the axis labels and title\n",
    "plt.ylabel('Classification Accuracy')\n",
    "plt.title('Random Forest Classification Accuracy')\n",
    "plt.legend(bbox_to_anchor=(1.05, 1), loc=2, borderaxespad=0.) \n",
    "\n",
    "plt.show()"
   ]
  },
  {
   "cell_type": "code",
   "execution_count": null,
   "metadata": {},
   "outputs": [],
   "source": []
  }
 ],
 "metadata": {
  "kernelspec": {
   "display_name": "Python 3.10.8 ('.venv': venv)",
   "language": "python",
   "name": "python3"
  },
  "language_info": {
   "codemirror_mode": {
    "name": "ipython",
    "version": 3
   },
   "file_extension": ".py",
   "mimetype": "text/x-python",
   "name": "python",
   "nbconvert_exporter": "python",
   "pygments_lexer": "ipython3",
   "version": "3.10.8"
  },
  "orig_nbformat": 4,
  "vscode": {
   "interpreter": {
    "hash": "813261bb89a596fd573cb2f546abb81b696909529e6161a6c7a34fde48501198"
   }
  }
 },
 "nbformat": 4,
 "nbformat_minor": 2
}
