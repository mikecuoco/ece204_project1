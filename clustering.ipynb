{
 "cells": [
  {
   "cell_type": "code",
   "execution_count": 1,
   "metadata": {},
   "outputs": [],
   "source": [
    "import numpy as np\n",
    "import pandas as pd\n",
    "import matplotlib.pyplot as plt\n",
    "from sklearn.cluster import KMeans\n",
    "from sklearn.decomposition import PCA"
   ]
  },
  {
   "cell_type": "code",
   "execution_count": 4,
   "metadata": {},
   "outputs": [
    {
     "name": "stdout",
     "output_type": "stream",
     "text": [
      "expression data shape:  (545, 20531)\n",
      "meta data shape:  (500, 18)\n",
      "meta data shape:  (545, 18)\n"
     ]
    }
   ],
   "source": [
    "# read expression data\n",
    "expr = pd.read_csv('data/TCGA.HNSC.expression.txt', sep='\\t', header=0, index_col=[0,1])\n",
    "print(\"expression data shape: \", expr.shape)\n",
    "# read meta data\n",
    "meta = pd.read_csv('data/TCGA.HNSC.metadata.txt', sep='\\t', header=0, index_col=0)\n",
    "print(\"meta data shape: \", meta.shape)\n",
    "# get meta data per sample\n",
    "meta = expr.reset_index()[['patient_id','sample_id']].join(meta, on='patient_id').set_index(['patient_id','sample_id'])\n",
    "print(\"meta data shape: \", meta.shape)\n",
    "meta.head()\n",
    "import pandas as pd\n",
    "import numpy as np\n",
    "from sklearn.preprocessing import StandardScaler\n",
    "from sklearn.decomposition import PCA\n",
    "from sklearn.manifold import MDS, TSNE\n",
    "import umap\n",
    "from sklearn.cluster import KMeans\n",
    "from sklearn.metrics.cluster import normalized_mutual_info_score\n",
    "\n",
    "\n",
    "# Handle missing values in metadata\n",
    "metadata = meta.fillna(\"Unknown\")\n",
    "\n",
    "\n",
    "\n",
    "\n",
    "from anndata import read_h5ad\n",
    "adata = read_h5ad('data/TCGA.HNSC.embedded.h5ad')"
   ]
  },
  {
   "cell_type": "code",
   "execution_count": 5,
   "metadata": {},
   "outputs": [
    {
     "data": {
      "text/plain": [
       "AnnData object with n_obs × n_vars = 545 × 20262\n",
       "    obs: 'type', 'age_at_initial_pathologic_diagnosis', 'gender', 'race', 'ajcc_pathologic_tumor_stage', 'histological_type', 'histological_grade', 'tumor_status', 'vital_status', 'OS', 'OS.time', 'DSS', 'DSS.time', 'DFI', 'DFI.time', 'PFI', 'PFI.time', 'Redaction', 'tissue_source_site'\n",
       "    var: 'gene', 'n_cells', 'mean', 'std'\n",
       "    uns: 'log1p'\n",
       "    obsm: 'mds_1', 'mds_10', 'mds_2', 'mds_3', 'mds_4', 'mds_5', 'mds_6', 'mds_7', 'mds_8', 'mds_9', 'pca', 'pca_1', 'pca_10', 'pca_2', 'pca_3', 'pca_4', 'pca_5', 'pca_6', 'pca_7', 'pca_8', 'pca_9', 'tsne_1', 'tsne_2', 'tsne_3', 'umap_1', 'umap_10', 'umap_2', 'umap_3', 'umap_4', 'umap_5', 'umap_6', 'umap_7', 'umap_8', 'umap_9'"
      ]
     },
     "execution_count": 5,
     "metadata": {},
     "output_type": "execute_result"
    }
   ],
   "source": [
    "adata"
   ]
  },
  {
   "cell_type": "code",
   "execution_count": 8,
   "metadata": {},
   "outputs": [
    {
     "name": "stderr",
     "output_type": "stream",
     "text": [
      "/home/gputest/.conda/envs/ece204/lib/python3.9/site-packages/sklearn/cluster/_kmeans.py:870: FutureWarning: The default value of `n_init` will change from 10 to 'auto' in 1.4. Set the value of `n_init` explicitly to suppress the warning\n",
      "  warnings.warn(\n"
     ]
    },
    {
     "name": "stdout",
     "output_type": "stream",
     "text": [
      "0.5875994\n",
      "0.5318647\n",
      "0.56845546\n",
      "0.5844404\n",
      "0.34720927\n"
     ]
    }
   ],
   "source": [
    "from sklearn.preprocessing import StandardScaler\n",
    "from sklearn.decomposition import PCA\n",
    "# from sklearn.manifold import TSNE\n",
    "from sklearn.manifold import MDS\n",
    "from openTSNE import TSNE\n",
    "import umap\n",
    "\n",
    "from sklearn.cluster import KMeans\n",
    "from sklearn.cluster import SpectralClustering\n",
    "from sklearn.cluster import AgglomerativeClustering\n",
    "import hdbscan\n",
    "from sklearn import mixture\n",
    "\n",
    "from sklearn.metrics.cluster import adjusted_rand_score\n",
    "from sklearn.metrics.cluster import normalized_mutual_info_score\n",
    "\n",
    "from time import time\n",
    "import seaborn as sns\n",
    "\n",
    "from sklearn.metrics import silhouette_score\n",
    "from sklearn.preprocessing import StandardScaler\n",
    "kmeans = KMeans(n_clusters=7).fit_predict(adata.obsm[\"umap_1\"])\n",
    "print(silhouette_score(adata.obsm[\"umap_1\"], kmeans))\n",
    "clusterer_hierarchical = AgglomerativeClustering(n_clusters = 7).fit_predict(adata.obsm[\"umap_1\"])\n",
    "print(silhouette_score(adata.obsm[\"umap_1\"], clusterer_hierarchical))\n",
    "spectral_Clustering = SpectralClustering(n_clusters = 7).fit_predict(adata.obsm[\"umap_1\"])\n",
    "print(silhouette_score(adata.obsm[\"umap_1\"], spectral_Clustering))\n",
    "gmm = mixture.GaussianMixture(n_components = 7).fit_predict(adata.obsm[\"umap_1\"])\n",
    "print(silhouette_score(adata.obsm[\"umap_1\"], gmm))\n",
    "clusterer_hdbscan = hdbscan.HDBSCAN(min_cluster_size = 7).fit_predict(adata.obsm[\"umap_1\"])\n",
    "print(silhouette_score(adata.obsm[\"umap_1\"], clusterer_hdbscan))"
   ]
  },
  {
   "cell_type": "code",
   "execution_count": 12,
   "metadata": {},
   "outputs": [
    {
     "name": "stderr",
     "output_type": "stream",
     "text": [
      "/home/gputest/.conda/envs/ece204/lib/python3.9/site-packages/sklearn/cluster/_kmeans.py:870: FutureWarning: The default value of `n_init` will change from 10 to 'auto' in 1.4. Set the value of `n_init` explicitly to suppress the warning\n",
      "  warnings.warn(\n"
     ]
    },
    {
     "name": "stdout",
     "output_type": "stream",
     "text": [
      "0.43081462\n",
      "0.43177772\n",
      "0.43461588\n",
      "0.4194158\n",
      "0.123454295\n"
     ]
    }
   ],
   "source": [
    "kmeans = KMeans(n_clusters=7).fit_predict(adata.obsm[\"umap_3\"])\n",
    "print(silhouette_score(adata.obsm[\"umap_3\"], kmeans))\n",
    "clusterer_hierarchical = AgglomerativeClustering(n_clusters = 7).fit_predict(adata.obsm[\"umap_3\"])\n",
    "print(silhouette_score(adata.obsm[\"umap_3\"], clusterer_hierarchical))\n",
    "spectral_Clustering = SpectralClustering(n_clusters = 7).fit_predict(adata.obsm[\"umap_3\"])\n",
    "print(silhouette_score(adata.obsm[\"umap_3\"], spectral_Clustering))\n",
    "gmm = mixture.GaussianMixture(n_components = 7).fit_predict(adata.obsm[\"umap_3\"])\n",
    "print(silhouette_score(adata.obsm[\"umap_3\"], gmm))\n",
    "clusterer_hdbscan = hdbscan.HDBSCAN(min_cluster_size = 7).fit_predict(adata.obsm[\"umap_3\"])\n",
    "print(silhouette_score(adata.obsm[\"umap_3\"], clusterer_hdbscan))"
   ]
  },
  {
   "cell_type": "code",
   "execution_count": 11,
   "metadata": {},
   "outputs": [
    {
     "name": "stderr",
     "output_type": "stream",
     "text": [
      "/home/gputest/.conda/envs/ece204/lib/python3.9/site-packages/sklearn/cluster/_kmeans.py:870: FutureWarning: The default value of `n_init` will change from 10 to 'auto' in 1.4. Set the value of `n_init` explicitly to suppress the warning\n",
      "  warnings.warn(\n"
     ]
    },
    {
     "name": "stdout",
     "output_type": "stream",
     "text": [
      "0.41863284\n",
      "0.35213426\n",
      "0.42318028\n",
      "0.36076277\n",
      "0.057079095\n"
     ]
    }
   ],
   "source": [
    "kmeans = KMeans(n_clusters=7).fit_predict(adata.obsm[\"umap_5\"])\n",
    "print(silhouette_score(adata.obsm[\"umap_5\"], kmeans))\n",
    "clusterer_hierarchical = AgglomerativeClustering(n_clusters = 7).fit_predict(adata.obsm[\"umap_5\"])\n",
    "print(silhouette_score(adata.obsm[\"umap_5\"], clusterer_hierarchical))\n",
    "spectral_Clustering = SpectralClustering(n_clusters = 7).fit_predict(adata.obsm[\"umap_5\"])\n",
    "print(silhouette_score(adata.obsm[\"umap_5\"], spectral_Clustering))\n",
    "gmm = mixture.GaussianMixture(n_components = 7).fit_predict(adata.obsm[\"umap_5\"])\n",
    "print(silhouette_score(adata.obsm[\"umap_5\"], gmm))\n",
    "clusterer_hdbscan = hdbscan.HDBSCAN(min_cluster_size = 7).fit_predict(adata.obsm[\"umap_5\"])\n",
    "print(silhouette_score(adata.obsm[\"umap_5\"], clusterer_hdbscan))"
   ]
  },
  {
   "cell_type": "code",
   "execution_count": 13,
   "metadata": {},
   "outputs": [
    {
     "name": "stderr",
     "output_type": "stream",
     "text": [
      "/home/gputest/.conda/envs/ece204/lib/python3.9/site-packages/sklearn/cluster/_kmeans.py:870: FutureWarning: The default value of `n_init` will change from 10 to 'auto' in 1.4. Set the value of `n_init` explicitly to suppress the warning\n",
      "  warnings.warn(\n"
     ]
    },
    {
     "name": "stdout",
     "output_type": "stream",
     "text": [
      "0.42076248\n",
      "0.4117972\n",
      "0.42320433\n",
      "0.38416922\n",
      "0.06258464\n"
     ]
    }
   ],
   "source": [
    "kmeans = KMeans(n_clusters=7).fit_predict(adata.obsm[\"umap_7\"])\n",
    "print(silhouette_score(adata.obsm[\"umap_7\"], kmeans))\n",
    "clusterer_hierarchical = AgglomerativeClustering(n_clusters = 7).fit_predict(adata.obsm[\"umap_7\"])\n",
    "print(silhouette_score(adata.obsm[\"umap_7\"], clusterer_hierarchical))\n",
    "spectral_Clustering = SpectralClustering(n_clusters = 7).fit_predict(adata.obsm[\"umap_7\"])\n",
    "print(silhouette_score(adata.obsm[\"umap_7\"], spectral_Clustering))\n",
    "gmm = mixture.GaussianMixture(n_components = 7).fit_predict(adata.obsm[\"umap_7\"])\n",
    "print(silhouette_score(adata.obsm[\"umap_7\"], gmm))\n",
    "clusterer_hdbscan = hdbscan.HDBSCAN(min_cluster_size = 7).fit_predict(adata.obsm[\"umap_7\"])\n",
    "print(silhouette_score(adata.obsm[\"umap_7\"], clusterer_hdbscan))"
   ]
  },
  {
   "cell_type": "code",
   "execution_count": 17,
   "metadata": {},
   "outputs": [
    {
     "name": "stderr",
     "output_type": "stream",
     "text": [
      "/home/gputest/.conda/envs/ece204/lib/python3.9/site-packages/sklearn/cluster/_kmeans.py:870: FutureWarning: The default value of `n_init` will change from 10 to 'auto' in 1.4. Set the value of `n_init` explicitly to suppress the warning\n",
      "  warnings.warn(\n"
     ]
    },
    {
     "name": "stdout",
     "output_type": "stream",
     "text": [
      "0.4193802\n",
      "0.40608793\n",
      "0.42165622\n",
      "0.38058415\n",
      "0.07112465\n"
     ]
    }
   ],
   "source": [
    "kmeans = KMeans(n_clusters=7).fit_predict(adata.obsm[\"umap_9\"])\n",
    "print(silhouette_score(adata.obsm[\"umap_9\"], kmeans))\n",
    "clusterer_hierarchical = AgglomerativeClustering(n_clusters = 7).fit_predict(adata.obsm[\"umap_9\"])\n",
    "print(silhouette_score(adata.obsm[\"umap_9\"], clusterer_hierarchical))\n",
    "spectral_Clustering = SpectralClustering(n_clusters = 7).fit_predict(adata.obsm[\"umap_9\"])\n",
    "print(silhouette_score(adata.obsm[\"umap_9\"], spectral_Clustering))\n",
    "gmm = mixture.GaussianMixture(n_components = 7).fit_predict(adata.obsm[\"umap_9\"])\n",
    "print(silhouette_score(adata.obsm[\"umap_9\"], gmm))\n",
    "clusterer_hdbscan = hdbscan.HDBSCAN(min_cluster_size = 7).fit_predict(adata.obsm[\"umap_9\"])\n",
    "print(silhouette_score(adata.obsm[\"umap_9\"], clusterer_hdbscan))"
   ]
  },
  {
   "cell_type": "code",
   "execution_count": 14,
   "metadata": {},
   "outputs": [
    {
     "name": "stderr",
     "output_type": "stream",
     "text": [
      "/home/gputest/.conda/envs/ece204/lib/python3.9/site-packages/sklearn/cluster/_kmeans.py:870: FutureWarning: The default value of `n_init` will change from 10 to 'auto' in 1.4. Set the value of `n_init` explicitly to suppress the warning\n",
      "  warnings.warn(\n"
     ]
    },
    {
     "name": "stdout",
     "output_type": "stream",
     "text": [
      "0.56418085\n",
      "0.54740983\n",
      "0.5540157\n",
      "0.56078273\n",
      "0.35716417\n"
     ]
    }
   ],
   "source": [
    "kmeans = KMeans(n_clusters=7).fit_predict(adata.obsm[\"tsne_1\"])\n",
    "print(silhouette_score(adata.obsm[\"tsne_1\"], kmeans))\n",
    "clusterer_hierarchical = AgglomerativeClustering(n_clusters = 7).fit_predict(adata.obsm[\"tsne_1\"])\n",
    "print(silhouette_score(adata.obsm[\"tsne_1\"], clusterer_hierarchical))\n",
    "spectral_Clustering = SpectralClustering(n_clusters = 7).fit_predict(adata.obsm[\"tsne_1\"])\n",
    "print(silhouette_score(adata.obsm[\"tsne_1\"], spectral_Clustering))\n",
    "gmm = mixture.GaussianMixture(n_components = 7).fit_predict(adata.obsm[\"tsne_1\"])\n",
    "print(silhouette_score(adata.obsm[\"tsne_1\"], gmm))\n",
    "clusterer_hdbscan = hdbscan.HDBSCAN(min_cluster_size = 7).fit_predict(adata.obsm[\"tsne_1\"])\n",
    "print(silhouette_score(adata.obsm[\"tsne_1\"], clusterer_hdbscan))"
   ]
  },
  {
   "cell_type": "code",
   "execution_count": 15,
   "metadata": {},
   "outputs": [
    {
     "name": "stderr",
     "output_type": "stream",
     "text": [
      "/home/gputest/.conda/envs/ece204/lib/python3.9/site-packages/sklearn/cluster/_kmeans.py:870: FutureWarning: The default value of `n_init` will change from 10 to 'auto' in 1.4. Set the value of `n_init` explicitly to suppress the warning\n",
      "  warnings.warn(\n"
     ]
    },
    {
     "name": "stdout",
     "output_type": "stream",
     "text": [
      "0.27218714\n",
      "0.20367196\n",
      "-0.27796945\n",
      "0.22721039\n",
      "0.022445178\n"
     ]
    }
   ],
   "source": [
    "kmeans = KMeans(n_clusters=7).fit_predict(adata.obsm[\"tsne_3\"])\n",
    "print(silhouette_score(adata.obsm[\"tsne_3\"], kmeans))\n",
    "clusterer_hierarchical = AgglomerativeClustering(n_clusters = 7).fit_predict(adata.obsm[\"tsne_3\"])\n",
    "print(silhouette_score(adata.obsm[\"tsne_3\"], clusterer_hierarchical))\n",
    "spectral_Clustering = SpectralClustering(n_clusters = 7).fit_predict(adata.obsm[\"tsne_3\"])\n",
    "print(silhouette_score(adata.obsm[\"tsne_3\"], spectral_Clustering))\n",
    "gmm = mixture.GaussianMixture(n_components = 7).fit_predict(adata.obsm[\"tsne_3\"])\n",
    "print(silhouette_score(adata.obsm[\"tsne_3\"], gmm))\n",
    "clusterer_hdbscan = hdbscan.HDBSCAN(min_cluster_size = 7).fit_predict(adata.obsm[\"tsne_3\"])\n",
    "print(silhouette_score(adata.obsm[\"tsne_3\"], clusterer_hdbscan))"
   ]
  },
  {
   "cell_type": "code",
   "execution_count": 20,
   "metadata": {},
   "outputs": [
    {
     "name": "stderr",
     "output_type": "stream",
     "text": [
      "/home/gputest/.conda/envs/ece204/lib/python3.9/site-packages/sklearn/cluster/_kmeans.py:870: FutureWarning: The default value of `n_init` will change from 10 to 'auto' in 1.4. Set the value of `n_init` explicitly to suppress the warning\n",
      "  warnings.warn(\n",
      "/home/gputest/.conda/envs/ece204/lib/python3.9/site-packages/sklearn/manifold/_spectral_embedding.py:274: UserWarning: Graph is not fully connected, spectral embedding may not work as expected.\n",
      "  warnings.warn(\n"
     ]
    },
    {
     "name": "stdout",
     "output_type": "stream",
     "text": [
      "0.52077806\n",
      "0.50563776\n",
      "0.45051792\n",
      "0.512018\n",
      "0.13904503\n"
     ]
    },
    {
     "name": "stderr",
     "output_type": "stream",
     "text": [
      "/home/gputest/.conda/envs/ece204/lib/python3.9/site-packages/sklearn/manifold/_spectral_embedding.py:393: UserWarning: Exited at iteration 2000 with accuracies \n",
      "[6.88018744e-15 2.04365590e-06 1.31987339e-06 1.77555086e-06\n",
      " 1.23784251e-06 2.11684216e-06 1.37192103e-05 1.99984224e-05]\n",
      "not reaching the requested tolerance 8.121132850646973e-06.\n",
      "Use iteration 1805 instead with accuracy \n",
      "3.129210996891885e-06.\n",
      "\n",
      "  _, diffusion_map = lobpcg(\n",
      "/home/gputest/.conda/envs/ece204/lib/python3.9/site-packages/sklearn/manifold/_spectral_embedding.py:393: UserWarning: Exited postprocessing with accuracies \n",
      "[3.71187304e-15 1.90459777e-06 1.41565272e-06 2.04595992e-06\n",
      " 1.81139027e-06 2.02967280e-06 6.44647163e-06 9.37985614e-06]\n",
      "not reaching the requested tolerance 8.121132850646973e-06.\n",
      "  _, diffusion_map = lobpcg(\n",
      "/home/gputest/.conda/envs/ece204/lib/python3.9/site-packages/sklearn/cluster/_kmeans.py:420: ConvergenceWarning: Number of distinct clusters (2) found smaller than n_clusters (7). Possibly due to duplicate points in X.\n",
      "  est = KMeans(\n"
     ]
    }
   ],
   "source": [
    "kmeans = KMeans(n_clusters=7).fit_predict(adata.obsm[\"mds_1\"])\n",
    "print(silhouette_score(adata.obsm[\"mds_1\"], kmeans))\n",
    "clusterer_hierarchical = AgglomerativeClustering(n_clusters = 7).fit_predict(adata.obsm[\"mds_1\"])\n",
    "print(silhouette_score(adata.obsm[\"mds_1\"], clusterer_hierarchical))\n",
    "spectral_Clustering = SpectralClustering(n_clusters = 7).fit_predict(adata.obsm[\"mds_1\"])\n",
    "print(silhouette_score(adata.obsm[\"mds_1\"], spectral_Clustering))\n",
    "gmm = mixture.GaussianMixture(n_components = 7).fit_predict(adata.obsm[\"mds_1\"])\n",
    "print(silhouette_score(adata.obsm[\"mds_1\"], gmm))\n",
    "clusterer_hdbscan = hdbscan.HDBSCAN(min_cluster_size = 7).fit_predict(adata.obsm[\"mds_1\"])\n",
    "print(silhouette_score(adata.obsm[\"mds_1\"], clusterer_hdbscan))"
   ]
  },
  {
   "cell_type": "code",
   "execution_count": 18,
   "metadata": {},
   "outputs": [
    {
     "name": "stderr",
     "output_type": "stream",
     "text": [
      "/home/gputest/.conda/envs/ece204/lib/python3.9/site-packages/sklearn/cluster/_kmeans.py:870: FutureWarning: The default value of `n_init` will change from 10 to 'auto' in 1.4. Set the value of `n_init` explicitly to suppress the warning\n",
      "  warnings.warn(\n",
      "/home/gputest/.conda/envs/ece204/lib/python3.9/site-packages/sklearn/manifold/_spectral_embedding.py:274: UserWarning: Graph is not fully connected, spectral embedding may not work as expected.\n",
      "  warnings.warn(\n"
     ]
    },
    {
     "name": "stdout",
     "output_type": "stream",
     "text": [
      "0.16105366\n",
      "0.09900263\n",
      "-0.34480003\n",
      "0.11019834\n",
      "-0.0077707814\n"
     ]
    }
   ],
   "source": [
    "kmeans = KMeans(n_clusters=7).fit_predict(adata.obsm[\"mds_5\"])\n",
    "print(silhouette_score(adata.obsm[\"mds_5\"], kmeans))\n",
    "clusterer_hierarchical = AgglomerativeClustering(n_clusters = 7).fit_predict(adata.obsm[\"mds_5\"])\n",
    "print(silhouette_score(adata.obsm[\"mds_5\"], clusterer_hierarchical))\n",
    "spectral_Clustering = SpectralClustering(n_clusters = 7).fit_predict(adata.obsm[\"mds_5\"])\n",
    "print(silhouette_score(adata.obsm[\"mds_5\"], spectral_Clustering))\n",
    "gmm = mixture.GaussianMixture(n_components = 7).fit_predict(adata.obsm[\"mds_5\"])\n",
    "print(silhouette_score(adata.obsm[\"mds_5\"], gmm))\n",
    "clusterer_hdbscan = hdbscan.HDBSCAN(min_cluster_size = 7).fit_predict(adata.obsm[\"mds_5\"])\n",
    "print(silhouette_score(adata.obsm[\"mds_5\"], clusterer_hdbscan))"
   ]
  }
 ],
 "metadata": {
  "kernelspec": {
   "display_name": "ece204",
   "language": "python",
   "name": "python3"
  },
  "language_info": {
   "codemirror_mode": {
    "name": "ipython",
    "version": 3
   },
   "file_extension": ".py",
   "mimetype": "text/x-python",
   "name": "python",
   "nbconvert_exporter": "python",
   "pygments_lexer": "ipython3",
   "version": "3.9.16"
  },
  "orig_nbformat": 4
 },
 "nbformat": 4,
 "nbformat_minor": 2
}
