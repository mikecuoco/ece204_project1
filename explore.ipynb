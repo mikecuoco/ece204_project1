{
 "cells": [
  {
   "attachments": {},
   "cell_type": "markdown",
   "metadata": {},
   "source": [
    "# Analysis for project 1\n",
    "\n",
    "Run PCA, MDS, t-SNE, and UMAP on TCGA gene expression data. Inspect variation of metadata features across reduced dimensions."
   ]
  },
  {
   "cell_type": "code",
   "execution_count": null,
   "metadata": {},
   "outputs": [],
   "source": [
    "import numpy as np\n",
    "import pandas as pd\n",
    "from anndata import AnnData\n",
    "import seaborn as sns\n",
    "import matplotlib.pyplot as plt\n",
    "from sklearn.preprocessing import scale\n",
    "\n",
    "# import embedding functions\n",
    "from sklearn.manifold import TSNE, MDS\n",
    "from sklearn.decomposition import PCA\n",
    "from umap import UMAP"
   ]
  },
  {
   "attachments": {},
   "cell_type": "markdown",
   "metadata": {},
   "source": [
    "## Read and clean the data"
   ]
  },
  {
   "cell_type": "code",
   "execution_count": null,
   "metadata": {},
   "outputs": [],
   "source": [
    "# read expression data\n",
    "expr = pd.read_csv('data/TCGA.HNSC.expression.txt', sep='\\t', header=0, index_col=[0,1])\n",
    "print(\"expression data shape: \", expr.shape)\n",
    "expr.head()[0:5]"
   ]
  },
  {
   "cell_type": "code",
   "execution_count": null,
   "metadata": {},
   "outputs": [],
   "source": [
    "# read meta data\n",
    "meta = pd.read_csv('data/TCGA.HNSC.metadata.txt', sep='\\t', header=0, index_col=0)\n",
    "print(\"meta data shape: \", meta.shape)\n",
    "meta.head()"
   ]
  },
  {
   "cell_type": "code",
   "execution_count": null,
   "metadata": {},
   "outputs": [],
   "source": [
    "# get meta data per sample\n",
    "meta = expr.reset_index()[['patient_id','sample_id']].join(meta, on='patient_id').set_index(['patient_id','sample_id'])\n",
    "print(\"meta data shape: \", meta.shape)\n",
    "meta.head()"
   ]
  },
  {
   "attachments": {},
   "cell_type": "markdown",
   "metadata": {},
   "source": [
    "We have 545 samples from 500 patients. 20531 features (genes) were quantified from each sample"
   ]
  },
  {
   "attachments": {},
   "cell_type": "markdown",
   "metadata": {},
   "source": [
    "## Inspect mean-variance relationship of features"
   ]
  },
  {
   "cell_type": "code",
   "execution_count": null,
   "metadata": {},
   "outputs": [],
   "source": [
    "mean_var = pd.DataFrame()\n",
    "mean_var['mean'] = expr.mean(axis=0)\n",
    "mean_var['var'] = expr.var(axis=0)\n",
    "f = sns.scatterplot(data=mean_var, x='mean', y='var', s = 5, alpha=0.5)"
   ]
  },
  {
   "cell_type": "code",
   "execution_count": null,
   "metadata": {},
   "outputs": [],
   "source": [
    "# log transform axes to see more clearly\n",
    "f = sns.scatterplot(data=mean_var, x='mean', y='var', s = 5, alpha=0.5)\n",
    "f.set(xscale=\"log\", yscale=\"log\")"
   ]
  },
  {
   "attachments": {},
   "cell_type": "markdown",
   "metadata": {},
   "source": [
    "Data is heteroscedastic. We will need to stabilize the variance of the data before proceeding."
   ]
  },
  {
   "cell_type": "code",
   "execution_count": null,
   "metadata": {},
   "outputs": [],
   "source": [
    "# log1p transform expression data (can't use log because of zeros)\n",
    "expr_norm = expr.apply(lambda x: np.log1p(x), axis=0)\n",
    "mean_var['mean'] = expr_norm.mean(axis=0)\n",
    "mean_var['var'] = expr_norm.var(axis=0)\n",
    "sns.scatterplot(data=mean_var, x='mean', y='var', s = 5, alpha=0.5)"
   ]
  },
  {
   "attachments": {},
   "cell_type": "markdown",
   "metadata": {},
   "source": [
    "## Normalize, scale, center, and embed the data"
   ]
  },
  {
   "cell_type": "code",
   "execution_count": null,
   "metadata": {},
   "outputs": [],
   "source": [
    "# put into Annotated Data object for nice organization\n",
    "adata = AnnData(expr, obs=meta, var=expr.columns.to_frame(name='gene'), dtype=np.float32)\n",
    "adata.obs_names = expr.index.get_level_values(1)\n",
    "adata.var_names = expr.columns\n",
    "\n",
    "# remove zeros\n",
    "adata = adata[:, adata.X.sum(axis=0) > 0]\n",
    "\n",
    "# log(x+1) transform each value in matrix\n",
    "adata.X_normed = np.log1p(adata.X)\n",
    "\n",
    "# scale only, don't center (PCA centers internally)\n",
    "adata.X_scaled = scale(adata.X_normed, with_mean=False, axis = 1)\n",
    "\n",
    "# scale and center\n",
    "adata.X_standardized = scale(adata.X_normed, with_mean=True, axis=1)"
   ]
  },
  {
   "cell_type": "code",
   "execution_count": null,
   "metadata": {},
   "outputs": [],
   "source": [
    "# setup 4 subplots\n",
    "fig, axs = plt.subplots(2, 2, figsize=(10,10))\n",
    "for i, method in enumerate(['pca', 'mds', 'tsne', 'umap']):\n",
    "\tif method == 'pca':\n",
    "\t\t# get embedding\n",
    "\t\tembedding = PCA().fit_transform(adata.X_scaled)\n",
    "\telif method == 'mds':\n",
    "\t\t# get embedding\n",
    "\t\tembedding = MDS(normalized_stress='auto').fit_transform(adata.X_standardized)\n",
    "\telif method == 'tsne':\n",
    "\t\t# get embedding\n",
    "\t\tembedding = TSNE().fit_transform(adata.X_standardized)\n",
    "\telif method == 'umap':\n",
    "\t\t# get embedding\n",
    "\t\tembedding = UMAP().fit_transform(adata.X_standardized)\n",
    "\n",
    "\t# get embedding\n",
    "\tmethod = method.upper()\n",
    "\t\n",
    "\t# plot embedding\n",
    "\tsns.scatterplot(x=embedding[:,0], y=embedding[:,1], s=5, alpha=0.5, hue=adata.obs['histological_grade'], ax=axs[int(i/2), i%2])\n",
    "\taxs[int(i/2), i%2].set_title(method)\n",
    "\taxs[int(i/2), i%2].set(xlabel=method+'_1', ylabel=method+'_2')\n",
    "\n",
    "\t# hide legend\n",
    "\taxs[int(i/2), i%2].legend_.remove()"
   ]
  },
  {
   "cell_type": "code",
   "execution_count": null,
   "metadata": {},
   "outputs": [],
   "source": [
    "adata._sanitize() # Transform string annotations to categoricals.\n",
    "adata.write_h5ad('data/TCGA.HNSC.embedded.h5ad')"
   ]
  }
 ],
 "metadata": {
  "kernelspec": {
   "display_name": "Python 3",
   "language": "python",
   "name": "python3"
  },
  "language_info": {
   "codemirror_mode": {
    "name": "ipython",
    "version": 3
   },
   "file_extension": ".py",
   "mimetype": "text/x-python",
   "name": "python",
   "nbconvert_exporter": "python",
   "pygments_lexer": "ipython3",
   "version": "3.9.16"
  },
  "orig_nbformat": 4
 },
 "nbformat": 4,
 "nbformat_minor": 2
}
